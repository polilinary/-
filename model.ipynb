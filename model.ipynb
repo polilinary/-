{
 "cells": [
  {
   "cell_type": "code",
   "execution_count": 2,
   "metadata": {},
   "outputs": [
    {
     "name": "stderr",
     "output_type": "stream",
     "text": [
      "/tmp/ipykernel_10311/1323681735.py:25: SettingWithCopyWarning: \n",
      "A value is trying to be set on a copy of a slice from a DataFrame.\n",
      "Try using .loc[row_indexer,col_indexer] = value instead\n",
      "\n",
      "See the caveats in the documentation: https://pandas.pydata.org/pandas-docs/stable/user_guide/indexing.html#returning-a-view-versus-a-copy\n",
      "  df_CHOSEN[col] = encoder.fit_transform(df_CHOSEN[col])\n",
      "/tmp/ipykernel_10311/1323681735.py:25: SettingWithCopyWarning: \n",
      "A value is trying to be set on a copy of a slice from a DataFrame.\n",
      "Try using .loc[row_indexer,col_indexer] = value instead\n",
      "\n",
      "See the caveats in the documentation: https://pandas.pydata.org/pandas-docs/stable/user_guide/indexing.html#returning-a-view-versus-a-copy\n",
      "  df_CHOSEN[col] = encoder.fit_transform(df_CHOSEN[col])\n",
      "/tmp/ipykernel_10311/1323681735.py:25: SettingWithCopyWarning: \n",
      "A value is trying to be set on a copy of a slice from a DataFrame.\n",
      "Try using .loc[row_indexer,col_indexer] = value instead\n",
      "\n",
      "See the caveats in the documentation: https://pandas.pydata.org/pandas-docs/stable/user_guide/indexing.html#returning-a-view-versus-a-copy\n",
      "  df_CHOSEN[col] = encoder.fit_transform(df_CHOSEN[col])\n",
      "/tmp/ipykernel_10311/1323681735.py:25: SettingWithCopyWarning: \n",
      "A value is trying to be set on a copy of a slice from a DataFrame.\n",
      "Try using .loc[row_indexer,col_indexer] = value instead\n",
      "\n",
      "See the caveats in the documentation: https://pandas.pydata.org/pandas-docs/stable/user_guide/indexing.html#returning-a-view-versus-a-copy\n",
      "  df_CHOSEN[col] = encoder.fit_transform(df_CHOSEN[col])\n",
      "/tmp/ipykernel_10311/1323681735.py:25: SettingWithCopyWarning: \n",
      "A value is trying to be set on a copy of a slice from a DataFrame.\n",
      "Try using .loc[row_indexer,col_indexer] = value instead\n",
      "\n",
      "See the caveats in the documentation: https://pandas.pydata.org/pandas-docs/stable/user_guide/indexing.html#returning-a-view-versus-a-copy\n",
      "  df_CHOSEN[col] = encoder.fit_transform(df_CHOSEN[col])\n",
      "/tmp/ipykernel_10311/1323681735.py:25: SettingWithCopyWarning: \n",
      "A value is trying to be set on a copy of a slice from a DataFrame.\n",
      "Try using .loc[row_indexer,col_indexer] = value instead\n",
      "\n",
      "See the caveats in the documentation: https://pandas.pydata.org/pandas-docs/stable/user_guide/indexing.html#returning-a-view-versus-a-copy\n",
      "  df_CHOSEN[col] = encoder.fit_transform(df_CHOSEN[col])\n",
      "/tmp/ipykernel_10311/1323681735.py:25: SettingWithCopyWarning: \n",
      "A value is trying to be set on a copy of a slice from a DataFrame.\n",
      "Try using .loc[row_indexer,col_indexer] = value instead\n",
      "\n",
      "See the caveats in the documentation: https://pandas.pydata.org/pandas-docs/stable/user_guide/indexing.html#returning-a-view-versus-a-copy\n",
      "  df_CHOSEN[col] = encoder.fit_transform(df_CHOSEN[col])\n",
      "/tmp/ipykernel_10311/1323681735.py:25: SettingWithCopyWarning: \n",
      "A value is trying to be set on a copy of a slice from a DataFrame.\n",
      "Try using .loc[row_indexer,col_indexer] = value instead\n",
      "\n",
      "See the caveats in the documentation: https://pandas.pydata.org/pandas-docs/stable/user_guide/indexing.html#returning-a-view-versus-a-copy\n",
      "  df_CHOSEN[col] = encoder.fit_transform(df_CHOSEN[col])\n",
      "/tmp/ipykernel_10311/1323681735.py:25: SettingWithCopyWarning: \n",
      "A value is trying to be set on a copy of a slice from a DataFrame.\n",
      "Try using .loc[row_indexer,col_indexer] = value instead\n",
      "\n",
      "See the caveats in the documentation: https://pandas.pydata.org/pandas-docs/stable/user_guide/indexing.html#returning-a-view-versus-a-copy\n",
      "  df_CHOSEN[col] = encoder.fit_transform(df_CHOSEN[col])\n",
      "/tmp/ipykernel_10311/1323681735.py:25: SettingWithCopyWarning: \n",
      "A value is trying to be set on a copy of a slice from a DataFrame.\n",
      "Try using .loc[row_indexer,col_indexer] = value instead\n",
      "\n",
      "See the caveats in the documentation: https://pandas.pydata.org/pandas-docs/stable/user_guide/indexing.html#returning-a-view-versus-a-copy\n",
      "  df_CHOSEN[col] = encoder.fit_transform(df_CHOSEN[col])\n",
      "/tmp/ipykernel_10311/1323681735.py:25: SettingWithCopyWarning: \n",
      "A value is trying to be set on a copy of a slice from a DataFrame.\n",
      "Try using .loc[row_indexer,col_indexer] = value instead\n",
      "\n",
      "See the caveats in the documentation: https://pandas.pydata.org/pandas-docs/stable/user_guide/indexing.html#returning-a-view-versus-a-copy\n",
      "  df_CHOSEN[col] = encoder.fit_transform(df_CHOSEN[col])\n",
      "/home/polina/.local/lib/python3.10/site-packages/sklearn/linear_model/_sag.py:348: ConvergenceWarning: The max_iter was reached which means the coef_ did not converge\n",
      "  warnings.warn(\n"
     ]
    },
    {
     "data": {
      "text/plain": [
       "['label_encoder.pkl']"
      ]
     },
     "execution_count": 2,
     "metadata": {},
     "output_type": "execute_result"
    }
   ],
   "source": [
    "import pandas as pd\n",
    "from sklearn.model_selection import train_test_split\n",
    "from sklearn.preprocessing import LabelEncoder\n",
    "from sklearn.linear_model import LogisticRegression\n",
    "from sklearn.metrics import classification_report\n",
    "from imblearn.under_sampling import RandomUnderSampler\n",
    "from sklearn.metrics import accuracy_score,confusion_matrix,classification_report\n",
    "import joblib\n",
    "\n",
    "df = pd.read_csv(\"backend/schizophrenia_dataset.csv\")\n",
    "\n",
    "df_CHOSEN = df[['Age', 'Gender', 'Education_Level', 'Marital_Status','Occupation', 'Income_Level', \n",
    "                'Family_History_of_Schizophrenia','Substance_Use', 'Suicide_Attempts',\n",
    "                'Social_Support', 'Stress_Factors', 'Medication_Compliance',\n",
    "                'Diagnosis']]\n",
    "\n",
    "# Преобразование категориальных данных\n",
    "categorical_columns = ['Gender', 'Education_Level', 'Marital_Status', 'Occupation', \n",
    "                       'Income_Level', 'Family_History_of_Schizophrenia', \n",
    "                       'Substance_Use', 'Suicide_Attempts', 'Social_Support', 'Stress_Factors', 'Medication_Compliance']\n",
    "\n",
    "# Применение LabelEncoder для кодирования категориальных переменных\n",
    "encoder = LabelEncoder()\n",
    "for col in categorical_columns:\n",
    "    df_CHOSEN[col] = encoder.fit_transform(df_CHOSEN[col])\n",
    "\n",
    "# Разделение на признаки и таргет\n",
    "X = df_CHOSEN.drop(columns=['Diagnosis'])\n",
    "y = df_CHOSEN['Diagnosis']\n",
    "\n",
    "# Разделение на тренировочную и тестовую выборки\n",
    "X_train, X_test, y_train, y_test = train_test_split(X, y, test_size=0.2, random_state=42)\n",
    "\n",
    "# Применение undersampling для сбалансирования классов\n",
    "undersampler = RandomUnderSampler(sampling_strategy='majority', random_state=42)\n",
    "X_train_resampled, y_train_resampled = undersampler.fit_resample(X_train, y_train)\n",
    "\n",
    "# Используем лучшие гиперпараметры для построения финальной модели\n",
    "best_model = LogisticRegression(C=0.1, class_weight='balanced', max_iter=500, penalty='l1', solver='saga')\n",
    "\n",
    "# Обучение модели на сбалансированных данных\n",
    "best_model.fit(X_train_resampled, y_train_resampled)\n",
    "\n",
    "# Предсказания\n",
    "y_pred = best_model.predict(X_test)\n",
    "\n",
    "# Сохранение модели и энкодеров\n",
    "joblib.dump(best_model, 'schizophrenia_model.pkl')\n",
    "joblib.dump(encoder, 'label_encoder.pkl')"
   ]
  },
  {
   "cell_type": "code",
   "execution_count": 3,
   "metadata": {},
   "outputs": [
    {
     "name": "stdout",
     "output_type": "stream",
     "text": [
      "Accuracy:  0.826\n",
      "Classification report:                precision    recall  f1-score   support\n",
      "\n",
      "           0       0.88      0.87      0.88      1406\n",
      "           1       0.70      0.72      0.71       594\n",
      "\n",
      "    accuracy                           0.83      2000\n",
      "   macro avg       0.79      0.80      0.79      2000\n",
      "weighted avg       0.83      0.83      0.83      2000\n",
      "\n",
      "Confusion matrix:  [[1222  184]\n",
      " [ 164  430]]\n"
     ]
    }
   ],
   "source": [
    "print(\"Accuracy: \", accuracy_score(y_test,y_pred))\n",
    "print(\"Classification report: \", classification_report(y_test, y_pred))\n",
    "print(\"Confusion matrix: \", confusion_matrix(y_test,y_pred))"
   ]
  }
 ],
 "metadata": {
  "kernelspec": {
   "display_name": "Python 3",
   "language": "python",
   "name": "python3"
  },
  "language_info": {
   "codemirror_mode": {
    "name": "ipython",
    "version": 3
   },
   "file_extension": ".py",
   "mimetype": "text/x-python",
   "name": "python",
   "nbconvert_exporter": "python",
   "pygments_lexer": "ipython3",
   "version": "3.10.12"
  }
 },
 "nbformat": 4,
 "nbformat_minor": 2
}
